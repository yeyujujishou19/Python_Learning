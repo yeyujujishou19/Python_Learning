{
 "cells": [
  {
   "cell_type": "code",
   "execution_count": 2,
   "metadata": {},
   "outputs": [
    {
     "name": "stdout",
     "output_type": "stream",
     "text": [
      "输入x值：2\n",
      "输入y值：5\n",
      "交换后x的值为：5\n",
      "交换后y的值为：2\n"
     ]
    }
   ],
   "source": [
    "# -*- coding: UTF-8 -*-\n",
    "#用户输入\n",
    "x=input('输入x值：')\n",
    "y=input('输入y值：')\n",
    "\n",
    "#创建临时变量，并交换\n",
    "temp=x\n",
    "x=y\n",
    "y=temp\n",
    "\n",
    "print('交换后x的值为：{}'.format(x))\n",
    "print('交换后y的值为：{0}'.format(y))"
   ]
  },
  {
   "cell_type": "code",
   "execution_count": 4,
   "metadata": {},
   "outputs": [
    {
     "name": "stdout",
     "output_type": "stream",
     "text": [
      "输入x值：2\n",
      "输入y值：5\n",
      "交换后x的值为：5\n",
      "交换后y的值为：2\n"
     ]
    }
   ],
   "source": [
    "# -*- coding: UTF-8 -*-\n",
    "#用户输入\n",
    "x=input('输入x值：')\n",
    "y=input('输入y值：')\n",
    "\n",
    "#不使用临时变量\n",
    "x,y=y,x\n",
    "\n",
    "print('交换后x的值为：{}'.format(x))\n",
    "print('交换后y的值为：{}'.format(y))"
   ]
  },
  {
   "cell_type": "code",
   "execution_count": null,
   "metadata": {},
   "outputs": [],
   "source": []
  }
 ],
 "metadata": {
  "kernelspec": {
   "display_name": "Python 3",
   "language": "python",
   "name": "python3"
  },
  "language_info": {
   "codemirror_mode": {
    "name": "ipython",
    "version": 3
   },
   "file_extension": ".py",
   "mimetype": "text/x-python",
   "name": "python",
   "nbconvert_exporter": "python",
   "pygments_lexer": "ipython3",
   "version": "3.6.1"
  }
 },
 "nbformat": 4,
 "nbformat_minor": 2
}

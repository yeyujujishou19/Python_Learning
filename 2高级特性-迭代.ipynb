{
 "cells": [
  {
   "cell_type": "code",
   "execution_count": 11,
   "metadata": {},
   "outputs": [
    {
     "name": "stdout",
     "output_type": "stream",
     "text": [
      "a\n",
      "b\n",
      "c\n",
      "------\n",
      "1\n",
      "2\n",
      "3\n",
      "------\n",
      "key:a,value:1\n",
      "key:b,value:2\n",
      "key:c,value:3\n"
     ]
    }
   ],
   "source": [
    "d = {'a': 1, 'b': 2, 'c': 3}\n",
    "for key in d:\n",
    "    print(key)\n",
    "\n",
    "print(\"------\")\n",
    "for values in d.values():\n",
    "    print(values)\n",
    "    \n",
    "print(\"------\")\n",
    "for key,values in d.items():\n",
    "    print((\"key:%s,value:%d\" %(key,values)))\n"
   ]
  },
  {
   "cell_type": "code",
   "execution_count": 17,
   "metadata": {},
   "outputs": [
    {
     "name": "stdout",
     "output_type": "stream",
     "text": [
      "True\n",
      "True\n",
      "False\n"
     ]
    }
   ],
   "source": [
    "#判断一个对象是否可迭代\n",
    "from collections import Iterable\n",
    "print(isinstance('abc',Iterable) )#判断是否可迭代\n",
    "print(isinstance([1,2,3],Iterable) ) #判断是否可迭代\n",
    "print(isinstance(123,Iterable) ) #判断是否可迭代"
   ]
  },
  {
   "cell_type": "code",
   "execution_count": 21,
   "metadata": {},
   "outputs": [
    {
     "name": "stdout",
     "output_type": "stream",
     "text": [
      "1 A\n",
      "2 B\n",
      "3 C\n",
      "1 2\n",
      "3 4\n",
      "5 6\n"
     ]
    }
   ],
   "source": [
    "for i, value in enumerate(['A', 'B', 'C']):\n",
    "    print(i+1, value)\n",
    "    \n",
    "for x,y in [(1,2),(3,4),(5,6)]:\n",
    "    print(x,y)"
   ]
  },
  {
   "cell_type": "code",
   "execution_count": 36,
   "metadata": {},
   "outputs": [
    {
     "name": "stdout",
     "output_type": "stream",
     "text": [
      "测试成功!\n"
     ]
    }
   ],
   "source": [
    "# -*- coding: utf-8 -*-\n",
    "def findMinAndMax(L):\n",
    " if(not(len(L))):\n",
    "    return (None, None)\n",
    "\n",
    " ismall=9999\n",
    " imax=0\n",
    " for value in L:\n",
    "    if(value>imax):\n",
    "        imax=value\n",
    "    if(value<ismall):\n",
    "        ismall=value\n",
    "        \n",
    " return (ismall, imax)\n",
    "\n",
    "# 测试\n",
    "if findMinAndMax([]) != (None, None):\n",
    "    print('测试失败1!')\n",
    "elif findMinAndMax([7]) != (7, 7):\n",
    "    print('测试失败2!')\n",
    "elif findMinAndMax([7, 1]) != (1, 7):\n",
    "    print('测试失败3!')\n",
    "elif findMinAndMax([7, 1, 3, 9, 5]) != (1, 9):\n",
    "    print('测试失败4!')\n",
    "else:\n",
    "    print('测试成功!')"
   ]
  },
  {
   "cell_type": "code",
   "execution_count": null,
   "metadata": {},
   "outputs": [],
   "source": []
  }
 ],
 "metadata": {
  "kernelspec": {
   "display_name": "Python 3",
   "language": "python",
   "name": "python3"
  },
  "language_info": {
   "codemirror_mode": {
    "name": "ipython",
    "version": 3
   },
   "file_extension": ".py",
   "mimetype": "text/x-python",
   "name": "python",
   "nbconvert_exporter": "python",
   "pygments_lexer": "ipython3",
   "version": "3.6.1"
  }
 },
 "nbformat": 4,
 "nbformat_minor": 2
}

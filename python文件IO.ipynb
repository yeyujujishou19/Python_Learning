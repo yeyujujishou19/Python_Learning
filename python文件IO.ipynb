{
 "cells": [
  {
   "cell_type": "code",
   "execution_count": 1,
   "metadata": {},
   "outputs": [
    {
     "name": "stdout",
     "output_type": "stream",
     "text": [
      "该文本会写入到文件中\n",
      "看到我了吧！\n"
     ]
    }
   ],
   "source": [
    "\n",
    "# 写文件\n",
    "with open(\"test.txt\", \"wt\") as out_file:\n",
    "    out_file.write(\"该文本会写入到文件中\\n看到我了吧！\")\n",
    " \n",
    "# Read a file\n",
    "with open(\"test.txt\", \"rt\") as in_file:\n",
    "    text = in_file.read()\n",
    " \n",
    "print(text)"
   ]
  },
  {
   "cell_type": "code",
   "execution_count": null,
   "metadata": {},
   "outputs": [],
   "source": []
  }
 ],
 "metadata": {
  "kernelspec": {
   "display_name": "Python 3",
   "language": "python",
   "name": "python3"
  },
  "language_info": {
   "codemirror_mode": {
    "name": "ipython",
    "version": 3
   },
   "file_extension": ".py",
   "mimetype": "text/x-python",
   "name": "python",
   "nbconvert_exporter": "python",
   "pygments_lexer": "ipython3",
   "version": "3.6.1"
  }
 },
 "nbformat": 4,
 "nbformat_minor": 2
}

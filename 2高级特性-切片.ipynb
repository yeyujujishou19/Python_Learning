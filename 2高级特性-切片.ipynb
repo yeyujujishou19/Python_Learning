{
 "cells": [
  {
   "cell_type": "code",
   "execution_count": 3,
   "metadata": {},
   "outputs": [
    {
     "name": "stdout",
     "output_type": "stream",
     "text": [
      "['Michael', 'Sarah', 'Tracy']\n",
      "['Michael', 'Sarah', 'Tracy']\n",
      "['Michael', 'Sarah', 'Tracy']\n"
     ]
    }
   ],
   "source": [
    "L = ['Michael', 'Sarah', 'Tracy', 'Bob', 'Jack']\n",
    "r=[]\n",
    "n=3\n",
    "for i in range(n):\n",
    "    r.append(L[i])\n",
    "print(r)\n",
    "\n",
    "print(L[0:3])\n",
    "print(L[:3])"
   ]
  },
  {
   "cell_type": "code",
   "execution_count": 9,
   "metadata": {},
   "outputs": [
    {
     "name": "stdout",
     "output_type": "stream",
     "text": [
      "[0, 1, 2, 3, 4, 5, 6, 7, 8, 9]\n",
      "[0, 5, 10, 15, 20, 25, 30, 35, 40, 45, 50, 55, 60, 65, 70, 75, 80, 85, 90, 95]\n"
     ]
    }
   ],
   "source": [
    "L=list(range(100))\n",
    "# print(L)\n",
    "print(L[:10])\n",
    "print(L[0::5])"
   ]
  },
  {
   "cell_type": "code",
   "execution_count": 17,
   "metadata": {},
   "outputs": [
    {
     "name": "stdout",
     "output_type": "stream",
     "text": [
      "测试成功7!\n"
     ]
    }
   ],
   "source": [
    "# # Basic Version:\n",
    "# def trim(s):\n",
    "#     length = len(s)\n",
    " \n",
    "#     if length > 0:\n",
    "#         for i in range(length):\n",
    "#             if s[i] != ' ':\n",
    "#                 break;\n",
    "#         j = length-1;\n",
    "#         while s[j] == ' ' and j >= i:\n",
    "#             j -= 1\n",
    "#         s = s[i:j+1]\n",
    " \n",
    "#     return s\n",
    " \n",
    "# Improvement Recursion\n",
    "def trim(s):\n",
    "   if(s[:1]!=\" \"and s[-1:]!=\" \"):\n",
    "      return s\n",
    "   elif(s[:1]==\" \"):\n",
    "      return trim(s[1:])\n",
    "   elif(s[-1:]==\" \"):\n",
    "      return trim(s[:-1])\n",
    "   else:\n",
    "        print(\"66\")\n",
    " \n",
    "# Test:\n",
    "if trim('hello  ') != 'hello':\n",
    "    print('测试失败1!')\n",
    "elif trim('  hello') != 'hello':\n",
    "    print('测试失败2!')\n",
    "elif trim('  hello  ') != 'hello':\n",
    "    print('测试失败3!')\n",
    "elif trim('  hello  world  ') != 'hello  world':\n",
    "    print('测试失败4!')\n",
    "elif trim('') != '':\n",
    "    print('测试失败5!')\n",
    "elif trim('    ') != '':\n",
    "    print('测试失败6!')\n",
    "else:\n",
    "    print('测试成功7!')\n"
   ]
  },
  {
   "cell_type": "code",
   "execution_count": null,
   "metadata": {},
   "outputs": [],
   "source": []
  }
 ],
 "metadata": {
  "kernelspec": {
   "display_name": "Python 3",
   "language": "python",
   "name": "python3"
  },
  "language_info": {
   "codemirror_mode": {
    "name": "ipython",
    "version": 3
   },
   "file_extension": ".py",
   "mimetype": "text/x-python",
   "name": "python",
   "nbconvert_exporter": "python",
   "pygments_lexer": "ipython3",
   "version": "3.6.1"
  }
 },
 "nbformat": 4,
 "nbformat_minor": 2
}

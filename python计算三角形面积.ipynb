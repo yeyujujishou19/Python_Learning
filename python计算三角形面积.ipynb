{
 "cells": [
  {
   "cell_type": "code",
   "execution_count": 2,
   "metadata": {},
   "outputs": [
    {
     "name": "stdout",
     "output_type": "stream",
     "text": [
      "输入三角形第一边长：5\n",
      "输入三角形第二边长：6\n",
      "输入三角形第三边长：7\n",
      "三角形的面积为14.70\n"
     ]
    }
   ],
   "source": [
    "# -*- coding: UTF-8 -*-\n",
    "a=float(input('输入三角形第一边长：'))\n",
    "b=float(input('输入三角形第二边长：'))\n",
    "c=float(input('输入三角形第三边长：'))\n",
    "\n",
    "#计算三角形半周长\n",
    "s=(a+b+c)/2\n",
    "\n",
    "#计算面积\n",
    "area=(s*(s-a)*(s-b)*(s-c))**0.5\n",
    "print('三角形的面积为%0.2f'% area)\n"
   ]
  },
  {
   "cell_type": "code",
   "execution_count": null,
   "metadata": {},
   "outputs": [],
   "source": []
  }
 ],
 "metadata": {
  "kernelspec": {
   "display_name": "Python 3",
   "language": "python",
   "name": "python3"
  },
  "language_info": {
   "codemirror_mode": {
    "name": "ipython",
    "version": 3
   },
   "file_extension": ".py",
   "mimetype": "text/x-python",
   "name": "python",
   "nbconvert_exporter": "python",
   "pygments_lexer": "ipython3",
   "version": "3.6.1"
  }
 },
 "nbformat": 4,
 "nbformat_minor": 2
}

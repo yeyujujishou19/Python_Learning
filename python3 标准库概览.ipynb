{
 "cells": [
  {
   "cell_type": "code",
   "execution_count": 1,
   "metadata": {},
   "outputs": [
    {
     "name": "stdout",
     "output_type": "stream",
     "text": [
      "C:\\Users\\Administrator\\Python编程练习\n"
     ]
    }
   ],
   "source": [
    "import os\n",
    "print(os.getcwd() )     # 返回当前的工作目录"
   ]
  },
  {
   "cell_type": "code",
   "execution_count": 5,
   "metadata": {},
   "outputs": [
    {
     "name": "stdout",
     "output_type": "stream",
     "text": [
      "['foot', 'fell', 'fastest']\n",
      "cat in the hat\n",
      "tea for two\n"
     ]
    }
   ],
   "source": [
    "import re\n",
    "print(re.findall(r'\\bf[a-z]*', 'which foot or hand fell fastest'))\n",
    "\n",
    "print(re.sub(r'(\\b[a-z]+) \\1', r'\\1', 'cat in in the the hat'))\n",
    "\n",
    "print('tea for too'.replace('too', 'two'))"
   ]
  },
  {
   "cell_type": "code",
   "execution_count": 8,
   "metadata": {},
   "outputs": [
    {
     "name": "stdout",
     "output_type": "stream",
     "text": [
      "2018-10-09\n",
      "10-09-18. 09 Oct 2018 is a Tuesday on the 09 day of October.\n"
     ]
    }
   ],
   "source": [
    "from datetime import date\n",
    "now = date.today()\n",
    "print(now)\n",
    "str=now.strftime(\"%m-%d-%y. %d %b %Y is a %A on the %d day of %B.\")\n",
    "print(str)"
   ]
  },
  {
   "cell_type": "code",
   "execution_count": 9,
   "metadata": {},
   "outputs": [
    {
     "name": "stdout",
     "output_type": "stream",
     "text": [
      "0.02263724598378324\n",
      "0.02350935339464823\n"
     ]
    }
   ],
   "source": [
    "from timeit import Timer\n",
    "print(Timer('t=a; a=b; b=t', 'a=1; b=2').timeit())\n",
    "\n",
    "print(Timer('a,b = b,a', 'a=1; b=2').timeit())"
   ]
  },
  {
   "cell_type": "code",
   "execution_count": null,
   "metadata": {},
   "outputs": [],
   "source": []
  }
 ],
 "metadata": {
  "kernelspec": {
   "display_name": "Python 3",
   "language": "python",
   "name": "python3"
  },
  "language_info": {
   "codemirror_mode": {
    "name": "ipython",
    "version": 3
   },
   "file_extension": ".py",
   "mimetype": "text/x-python",
   "name": "python",
   "nbconvert_exporter": "python",
   "pygments_lexer": "ipython3",
   "version": "3.6.1"
  }
 },
 "nbformat": 4,
 "nbformat_minor": 2
}

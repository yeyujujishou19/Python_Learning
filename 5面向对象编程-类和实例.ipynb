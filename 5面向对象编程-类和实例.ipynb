{
 "cells": [
  {
   "cell_type": "code",
   "execution_count": 16,
   "metadata": {},
   "outputs": [
    {
     "name": "stdout",
     "output_type": "stream",
     "text": [
      "Jack:99\n"
     ]
    },
    {
     "data": {
      "text/plain": [
       "79"
      ]
     },
     "execution_count": 16,
     "metadata": {},
     "output_type": "execute_result"
    }
   ],
   "source": [
    "class Student(object):\n",
    "    def __init__(self,name,score):\n",
    "        self.__name=name\n",
    "        self.__score=score\n",
    "\n",
    "    def print_score(self):\n",
    "        print('%s:%s'%(self.__name,self.__score))\n",
    "        \n",
    "    def get_grade(self):\n",
    "        if self.__score>90:\n",
    "            return 'A'\n",
    "        elif self.__score>60:\n",
    "            return 'B'\n",
    "        else:\n",
    "            return 'C'\n",
    "        \n",
    "    def get_name(self):\n",
    "        return self.__name\n",
    "    \n",
    "    def get_score(self):\n",
    "        return self.__score\n",
    "    \n",
    "    def set_score(self,score):\n",
    "        self.__score=score\n",
    "        \n",
    "    \n",
    "bart=Student('Jack',99)\n",
    "\n",
    "bart.print_score()\n",
    "\n",
    "# bart.score=89\n",
    "\n",
    "bart.get_grade()\n",
    "\n",
    "bart.get_name()\n",
    "\n",
    "bart.set_score(79)\n",
    "\n",
    "bart.get_score()\n"
   ]
  },
  {
   "cell_type": "code",
   "execution_count": null,
   "metadata": {},
   "outputs": [],
   "source": []
  }
 ],
 "metadata": {
  "kernelspec": {
   "display_name": "Python 3",
   "language": "python",
   "name": "python3"
  },
  "language_info": {
   "codemirror_mode": {
    "name": "ipython",
    "version": 3
   },
   "file_extension": ".py",
   "mimetype": "text/x-python",
   "name": "python",
   "nbconvert_exporter": "python",
   "pygments_lexer": "ipython3",
   "version": "3.6.1"
  }
 },
 "nbformat": 4,
 "nbformat_minor": 2
}
